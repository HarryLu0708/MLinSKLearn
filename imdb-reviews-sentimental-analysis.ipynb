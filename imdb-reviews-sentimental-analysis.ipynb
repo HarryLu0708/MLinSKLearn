{
 "cells": [
  {
   "cell_type": "code",
   "execution_count": 1,
   "id": "8d1d4597",
   "metadata": {},
   "outputs": [],
   "source": [
    "import nltk\n",
    "from wordcloud import WordCloud\n",
    "import re\n",
    "import matplotlib.pyplot as plt\n",
    "import pandas as pd\n",
    "import numpy as np\n",
    "import seaborn as sns\n",
    "from sklearn.model_selection import train_test_split\n",
    "from sklearn.feature_extraction.text import TfidfVectorizer\n",
    "from sklearn.ensemble import RandomForestClassifier\n",
    "from nltk.corpus import stopwords\n",
    "\n",
    "%matplotlib inline"
   ]
  },
  {
   "cell_type": "code",
   "execution_count": 3,
   "id": "0174ed7f",
   "metadata": {},
   "outputs": [
    {
     "data": {
      "text/plain": [
       "(                                              review sentiment\n",
       " 0  One of the other reviewers has mentioned that ...  positive\n",
       " 1  A wonderful little production. <br /><br />The...  positive\n",
       " 2  I thought this was a wonderful way to spend ti...  positive\n",
       " 3  Basically there's a family where a little boy ...  negative\n",
       " 4  Petter Mattei's \"Love in the Time of Money\" is...  positive,\n",
       " (50000, 2))"
      ]
     },
     "execution_count": 3,
     "metadata": {},
     "output_type": "execute_result"
    }
   ],
   "source": [
    "data = pd.read_csv(r\"C:\\Users\\luyil\\Downloads\\archive (4)\\IMDB Dataset.csv\")\n",
    "data.head(), data.shape"
   ]
  },
  {
   "cell_type": "code",
   "execution_count": 4,
   "id": "15f1915b",
   "metadata": {},
   "outputs": [
    {
     "data": {
      "text/plain": [
       "<Axes: ylabel='sentiment'>"
      ]
     },
     "execution_count": 4,
     "metadata": {},
     "output_type": "execute_result"
    },
    {
     "data": {
      "image/png": "[encoded data removed]",
      "text/plain": [
       "<Figure size 800x1000 with 1 Axes>"
      ]
     },
     "metadata": {},
     "output_type": "display_data"
    }
   ],
   "source": [
    "plt.rcParams[\"figure.figsize\"] = [8,10]\n",
    "data.sentiment.value_counts().plot(kind=\"pie\",autopct=\"%1.0f%%\")"
   ]
  },
  {
   "cell_type": "code",
   "execution_count": 5,
   "id": "566a2c28",
   "metadata": {},
   "outputs": [],
   "source": [
    "X = data[\"review\"]\n",
    "y = data[\"sentiment\"]"
   ]
  },
  {
   "cell_type": "code",
   "execution_count": 6,
   "id": "9565a053",
   "metadata": {},
   "outputs": [],
   "source": [
    "def clean_data(doc):\n",
    "    document = re.sub(\"[^a-zA-Z]\",\" \",doc)\n",
    "    document = re.sub(r\"\\s+[^a-zA-Z]\\s\",\" \",document)\n",
    "    document = re.sub(r\"\\s+\",\" \",document)\n",
    "    return document"
   ]
  },
  {
   "cell_type": "code",
   "execution_count": 7,
   "id": "d92ead4b",
   "metadata": {},
   "outputs": [],
   "source": [
    "X_cleaned = []\n",
    "reviews = list(X)\n",
    "for r in reviews:\n",
    "    X_cleaned.append(clean_data(r))"
   ]
  },
  {
   "cell_type": "code",
   "execution_count": 8,
   "id": "fceb9368",
   "metadata": {},
   "outputs": [],
   "source": [
    "vectorizer = TfidfVectorizer(max_features=2500,min_df=5,max_df=0.7,stop_words=stopwords.words(\"english\"))\n",
    "X = vectorizer.fit_transform(X_cleaned).toarray()"
   ]
  },
  {
   "cell_type": "code",
   "execution_count": 9,
   "id": "6c909841",
   "metadata": {},
   "outputs": [],
   "source": [
    "X_train, X_test, y_train, y_test = train_test_split(X,y,test_size=0.2,random_state=42)"
   ]
  },
  {
   "cell_type": "code",
   "execution_count": 10,
   "id": "6073df57",
   "metadata": {},
   "outputs": [
    {
     "ename": "NameError",
     "evalue": "name 'confusion_matrix' is not defined",
     "output_type": "error",
     "traceback": [
      "\u001b[1;31m---------------------------------------------------------------------------\u001b[0m",
      "\u001b[1;31mNameError\u001b[0m                                 Traceback (most recent call last)",
      "Cell \u001b[1;32mIn[10], line 5\u001b[0m\n\u001b[0;32m      2\u001b[0m classifier \u001b[38;5;241m=\u001b[39m rfc_clf\u001b[38;5;241m.\u001b[39mfit(X_train,y_train)\n\u001b[0;32m      3\u001b[0m y_pred \u001b[38;5;241m=\u001b[39m classifier\u001b[38;5;241m.\u001b[39mpredict(X_test)\n\u001b[1;32m----> 5\u001b[0m \u001b[38;5;28mprint\u001b[39m(confusion_matrix(y_test,y_pred))\n\u001b[0;32m      6\u001b[0m \u001b[38;5;28mprint\u001b[39m(accuracy_score(y_test,y_pred))\n\u001b[0;32m      7\u001b[0m \u001b[38;5;28mprint\u001b[39m(classification_report(y_test,y_pred))\n",
      "\u001b[1;31mNameError\u001b[0m: name 'confusion_matrix' is not defined"
     ]
    }
   ],
   "source": [
    "rfc_clf = RandomForestClassifier(random_state=42,n_estimators=250)\n",
    "classifier = rfc_clf.fit(X_train,y_train)\n",
    "y_pred = classifier.predict(X_test)\n",
    "\n",
    "print(confusion_matrix(y_test,y_pred))\n",
    "print(accuracy_score(y_test,y_pred))\n",
    "print(classification_report(y_test,y_pred))"
   ]
  }
 ],
 "metadata": {
  "kernelspec": {
   "display_name": "Python 3 (ipykernel)",
   "language": "python",
   "name": "python3"
  },
  "language_info": {
   "codemirror_mode": {
    "name": "ipython",
    "version": 3
   },
   "file_extension": ".py",
   "mimetype": "text/x-python",
   "name": "python",
   "nbconvert_exporter": "python",
   "pygments_lexer": "ipython3",
   "version": "3.11.4"
  }
 },
 "nbformat": 4,
 "nbformat_minor": 5
}
