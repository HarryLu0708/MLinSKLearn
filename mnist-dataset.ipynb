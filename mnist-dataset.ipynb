{
 "cells": [
  {
   "cell_type": "code",
   "execution_count": 1,
   "id": "0a612301",
   "metadata": {},
   "outputs": [
    {
     "name": "stderr",
     "output_type": "stream",
     "text": [
      "C:\\ProgramData\\anaconda3\\Lib\\site-packages\\sklearn\\datasets\\_openml.py:1002: FutureWarning: The default value of `parser` will change from `'liac-arff'` to `'auto'` in 1.4. You can set `parser='auto'` to silence this warning. Therefore, an `ImportError` will be raised from 1.4 if the dataset is dense and pandas is not installed. Note that the pandas parser may return different data types. See the Notes Section in fetch_openml's API doc for details.\n",
      "  warn(\n"
     ]
    }
   ],
   "source": [
    "from sklearn.datasets import fetch_openml\n",
    "mnist = fetch_openml(\"mnist_784\")"
   ]
  },
  {
   "cell_type": "code",
   "execution_count": 2,
   "id": "c3cf1b82",
   "metadata": {},
   "outputs": [],
   "source": [
    "import numpy as np\n",
    "import pandas as pd\n",
    "import matplotlib.pyplot as plt"
   ]
  },
  {
   "cell_type": "code",
   "execution_count": 3,
   "id": "f0dd9134",
   "metadata": {},
   "outputs": [
    {
     "data": {
      "text/plain": [
       "((70000, 784),\n",
       " array(['0', '1', '2', '3', '4', '5', '6', '7', '8', '9'], dtype=object))"
      ]
     },
     "execution_count": 3,
     "metadata": {},
     "output_type": "execute_result"
    }
   ],
   "source": [
    "mnist.data.shape, np.unique(mnist.target)"
   ]
  },
  {
   "cell_type": "code",
   "execution_count": 6,
   "id": "6654b1a4",
   "metadata": {},
   "outputs": [],
   "source": [
    "X = mnist.data\n",
    "y = mnist.target"
   ]
  },
  {
   "cell_type": "code",
   "execution_count": 7,
   "id": "193dec99",
   "metadata": {},
   "outputs": [],
   "source": [
    "from sklearn.model_selection import train_test_split\n",
    "from sklearn.preprocessing import StandardScaler\n",
    "\n",
    "X_train, X_test, y_train, y_test = train_test_split(X,y,test_size=0.2,random_state=42)\n",
    "ss = StandardScaler()\n",
    "ss.fit(X_train,y_train)\n",
    "X_train = ss.fit_transform(X_train)\n",
    "X_test = ss.transform(X_test)"
   ]
  },
  {
   "cell_type": "code",
   "execution_count": 8,
   "id": "6fcfdabe",
   "metadata": {},
   "outputs": [
    {
     "name": "stdout",
     "output_type": "stream",
     "text": [
      "[[1324    0    5    0    1    0    2    1    9    1]\n",
      " [   0 1579    6    6    2    0    0    4    2    1]\n",
      " [   2    3 1340    4    5    1    9    7    8    1]\n",
      " [   1    0   21 1360    1   11    3   15   12    9]\n",
      " [   2    0    3    0 1256    0    3    3    2   26]\n",
      " [   3    2    1   14    3 1230    7    1   11    1]\n",
      " [   4    1    0    0    5    9 1375    0    2    0]\n",
      " [   2    5   18    0    6    1    0 1453    2   16]\n",
      " [   0    6   11   16    5    7    5    4 1297    6]\n",
      " [   6    7    3   13   15    4    1   12    6 1353]]\n",
      "0.9690714285714286\n",
      "              precision    recall  f1-score   support\n",
      "\n",
      "           0       0.99      0.99      0.99      1343\n",
      "           1       0.99      0.99      0.99      1600\n",
      "           2       0.95      0.97      0.96      1380\n",
      "           3       0.96      0.95      0.96      1433\n",
      "           4       0.97      0.97      0.97      1295\n",
      "           5       0.97      0.97      0.97      1273\n",
      "           6       0.98      0.98      0.98      1396\n",
      "           7       0.97      0.97      0.97      1503\n",
      "           8       0.96      0.96      0.96      1357\n",
      "           9       0.96      0.95      0.95      1420\n",
      "\n",
      "    accuracy                           0.97     14000\n",
      "   macro avg       0.97      0.97      0.97     14000\n",
      "weighted avg       0.97      0.97      0.97     14000\n",
      "\n"
     ]
    }
   ],
   "source": [
    "from sklearn.ensemble import RandomForestClassifier\n",
    "from sklearn.metrics import classification_report, confusion_matrix, accuracy_score\n",
    "\n",
    "rfc_clf = RandomForestClassifier(random_state=42,n_estimators=500)\n",
    "classifier = rfc_clf.fit(X_train,y_train)\n",
    "y_pred = classifier.predict(X_test)\n",
    "\n",
    "print(confusion_matrix(y_test,y_pred))\n",
    "print(accuracy_score(y_test,y_pred))\n",
    "print(classification_report(y_test,y_pred))"
   ]
  }
 ],
 "metadata": {
  "kernelspec": {
   "display_name": "Python 3 (ipykernel)",
   "language": "python",
   "name": "python3"
  },
  "language_info": {
   "codemirror_mode": {
    "name": "ipython",
    "version": 3
   },
   "file_extension": ".py",
   "mimetype": "text/x-python",
   "name": "python",
   "nbconvert_exporter": "python",
   "pygments_lexer": "ipython3",
   "version": "3.11.4"
  }
 },
 "nbformat": 4,
 "nbformat_minor": 5
}
